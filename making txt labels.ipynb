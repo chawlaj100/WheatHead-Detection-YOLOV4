{
 "cells": [
  {
   "cell_type": "code",
   "execution_count": 1,
   "metadata": {},
   "outputs": [],
   "source": [
    "import os\n",
    "import numpy\n",
    "import cv2\n",
    "import csv"
   ]
  },
  {
   "cell_type": "code",
   "execution_count": 11,
   "metadata": {},
   "outputs": [],
   "source": [
    "path = \"test.csv\""
   ]
  },
  {
   "cell_type": "code",
   "execution_count": 12,
   "metadata": {},
   "outputs": [],
   "source": [
    "arr = []\n",
    "count = 0\n",
    "with open(path) as f:\n",
    "    file = csv.reader(f, delimiter=',')\n",
    "    for row in file:\n",
    "        if count == 0:\n",
    "            pass\n",
    "        else:\n",
    "            arr.append(row[1])\n",
    "        count+=1"
   ]
  },
  {
   "cell_type": "code",
   "execution_count": 13,
   "metadata": {},
   "outputs": [],
   "source": [
    "classes = {}\n",
    "j = 0\n",
    "for i in arr:\n",
    "    if i not in classes:\n",
    "        classes[i] = j\n",
    "        j += 1"
   ]
  },
  {
   "cell_type": "code",
   "execution_count": 14,
   "metadata": {},
   "outputs": [
    {
     "data": {
      "text/plain": [
       "{'usask_1': 0,\n",
       " 'arvalis_1': 1,\n",
       " 'inrae_1': 2,\n",
       " 'ethz_1': 3,\n",
       " 'arvalis_3': 4,\n",
       " 'rres_1': 5,\n",
       " 'arvalis_2': 6}"
      ]
     },
     "execution_count": 14,
     "metadata": {},
     "output_type": "execute_result"
    }
   ],
   "source": [
    "classes"
   ]
  },
  {
   "cell_type": "code",
   "execution_count": 15,
   "metadata": {},
   "outputs": [],
   "source": [
    "arr = []\n",
    "count = 0\n",
    "with open(path) as f:\n",
    "    file = csv.reader(f, delimiter=',')\n",
    "    for row in file:\n",
    "        if count == 0:\n",
    "            pass\n",
    "        else:\n",
    "            arr.append(row[0])\n",
    "        count+=1"
   ]
  },
  {
   "cell_type": "code",
   "execution_count": 16,
   "metadata": {},
   "outputs": [],
   "source": [
    "images = []\n",
    "for i in arr:\n",
    "    if i not in images:\n",
    "        images.append(i)"
   ]
  },
  {
   "cell_type": "code",
   "execution_count": 17,
   "metadata": {},
   "outputs": [
    {
     "data": {
      "text/plain": [
       "200"
      ]
     },
     "execution_count": 17,
     "metadata": {},
     "output_type": "execute_result"
    }
   ],
   "source": [
    "len(images)"
   ]
  },
  {
   "cell_type": "code",
   "execution_count": 18,
   "metadata": {},
   "outputs": [
    {
     "name": "stdout",
     "output_type": "stream",
     "text": [
      "Done\n",
      "Done\n",
      "Done\n",
      "Done\n",
      "Done\n",
      "Done\n",
      "Done\n",
      "Done\n",
      "Done\n",
      "Done\n"
     ]
    }
   ],
   "source": [
    "i = 0\n",
    "for img in images:\n",
    "    i += 1\n",
    "    if i%20 == 0:\n",
    "        print(\"Done\")\n",
    "    #txt = open('train_resize/'+img+'.txt', 'w+')\n",
    "    with open(path) as f:\n",
    "        file = csv.reader(f, delimiter=',')\n",
    "        txt = open('test_resized/'+img+'.txt', 'w+')\n",
    "        for row in file:\n",
    "            if img == row[0]:\n",
    "                data = row[1:]\n",
    "                txt = open('test_resized/'+img+'.txt', 'a+')\n",
    "                txt.write(str(classes[data[0]])+\" \"+str(data[1])+\" \"+str(data[2])+\" \"+str(data[3])+\" \"+str(data[4]+\"\\n\"))\n",
    "        txt.close()"
   ]
  },
  {
   "cell_type": "code",
   "execution_count": null,
   "metadata": {},
   "outputs": [],
   "source": []
  }
 ],
 "metadata": {
  "kernelspec": {
   "display_name": "Python 3",
   "language": "python",
   "name": "python3"
  },
  "language_info": {
   "codemirror_mode": {
    "name": "ipython",
    "version": 3
   },
   "file_extension": ".py",
   "mimetype": "text/x-python",
   "name": "python",
   "nbconvert_exporter": "python",
   "pygments_lexer": "ipython3",
   "version": "3.8.1"
  }
 },
 "nbformat": 4,
 "nbformat_minor": 4
}
